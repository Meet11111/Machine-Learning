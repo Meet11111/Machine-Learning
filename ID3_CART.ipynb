{
  "nbformat": 4,
  "nbformat_minor": 0,
  "metadata": {
    "colab": {
      "name": "ID3_CART_119.ipynb",
      "provenance": []
    },
    "kernelspec": {
      "name": "python3",
      "display_name": "Python 3"
    },
    "language_info": {
      "name": "python"
    }
  },
  "cells": [
    {
      "cell_type": "markdown",
      "source": [
        "**Importing Libraries**"
      ],
      "metadata": {
        "id": "_DjcqW9twhdH"
      }
    },
    {
      "cell_type": "code",
      "execution_count": null,
      "metadata": {
        "id": "TfwnPfDRXwli"
      },
      "outputs": [],
      "source": [
        "import numpy as np\n",
        "import pandas as pd\n",
        "from sklearn.tree import DecisionTreeClassifier\n",
        "from sklearn.preprocessing import LabelEncoder\n",
        "from sklearn.model_selection import train_test_split\n",
        "from sklearn import metrics\n",
        "from sklearn.metrics import classification_report\n",
        "eps = np.finfo(float).eps\n",
        "from numpy import log2 as log\n",
        "import pprint"
      ]
    },
    {
      "cell_type": "markdown",
      "source": [
        "**Importing the dataset**"
      ],
      "metadata": {
        "id": "7nwOVkAJwnNf"
      }
    },
    {
      "cell_type": "code",
      "source": [
        "dataset=pd.read_csv('engine.csv')\n",
        "dataset=pd.DataFrame(dataset,columns=[\"Engine\",\"Turbo\",\"Weight\",\"Fast\"])\n",
        "filter = dataset[\"Engine\"]==\"Small\"\n",
        "dataset.where(filter).count()\n",
        "dataset_encoded=dataset.iloc[:,0:5]\n",
        "le=LabelEncoder()\n",
        "\n",
        "for i in dataset_encoded:\n",
        "    dataset_encoded[i]=le.fit_transform(dataset_encoded[i])\n",
        "\n",
        "print(dataset)"
      ],
      "metadata": {
        "colab": {
          "base_uri": "https://localhost:8080/"
        },
        "id": "uisgWpOleOP7",
        "outputId": "d2fa7e62-5dad-4207-ee58-9e87d11e9e3f"
      },
      "execution_count": null,
      "outputs": [
        {
          "output_type": "stream",
          "name": "stdout",
          "text": [
            "   Engine Turbo   Weight Fast\n",
            "0   small   yes  average  yes\n",
            "1  medium    no    heavy  yes\n",
            "2   large    no  average  yes\n",
            "3  medium    no    light   no\n",
            "4   large   yes    heavy   no\n",
            "5   large    no    heavy   no\n",
            "6  medium   yes    light  yes\n",
            "7   large    no  average  yes\n",
            "8  medium    no    heavy   no\n",
            "9  medium    no    heavy   no\n"
          ]
        }
      ]
    },
    {
      "cell_type": "markdown",
      "source": [
        "**Encoded Dataset**"
      ],
      "metadata": {
        "id": "VM9cy8LiwsAw"
      }
    },
    {
      "cell_type": "code",
      "source": [
        "print(dataset_encoded)"
      ],
      "metadata": {
        "colab": {
          "base_uri": "https://localhost:8080/"
        },
        "id": "RFrAQPZJjcEY",
        "outputId": "682e451f-f17e-4770-e2e3-cbbfb6f630a0"
      },
      "execution_count": null,
      "outputs": [
        {
          "output_type": "stream",
          "name": "stdout",
          "text": [
            "   Engine  Turbo  Weight  Fast\n",
            "0       2      1       0     1\n",
            "1       1      0       1     1\n",
            "2       0      0       0     1\n",
            "3       1      0       2     0\n",
            "4       0      1       1     0\n",
            "5       0      0       1     0\n",
            "6       1      1       2     1\n",
            "7       0      0       0     1\n",
            "8       1      0       1     0\n",
            "9       1      0       1     0\n"
          ]
        }
      ]
    },
    {
      "cell_type": "markdown",
      "source": [
        "**Calculating Entropy of Dataset**"
      ],
      "metadata": {
        "id": "BkWRsopJwwNd"
      }
    },
    {
      "cell_type": "code",
      "source": [
        "entropy_node = 0  #Initialize Entropy\n",
        "values = dataset_encoded.Fast.unique()  \n",
        "for value in values:\n",
        "    fraction = dataset.Fast.value_counts()[value]/len(dataset_encoded.Fast)  \n",
        "    entropy_node += -fraction*np.log2(fraction)"
      ],
      "metadata": {
        "id": "zhZr1DX9lZA7"
      },
      "execution_count": null,
      "outputs": []
    },
    {
      "cell_type": "code",
      "source": [
        "entropy_node"
      ],
      "metadata": {
        "colab": {
          "base_uri": "https://localhost:8080/"
        },
        "id": "MMQKSkEwltmZ",
        "outputId": "861b33fa-f905-4669-dbd5-326d684dda6f"
      },
      "execution_count": null,
      "outputs": [
        {
          "output_type": "execute_result",
          "data": {
            "text/plain": [
              "1.0"
            ]
          },
          "metadata": {},
          "execution_count": 136
        }
      ]
    },
    {
      "cell_type": "markdown",
      "source": [
        "**Calculating entropy of each attribute**"
      ],
      "metadata": {
        "id": "VETqk4p1w23_"
      }
    },
    {
      "cell_type": "code",
      "source": [
        "def ent(df,attribute):\n",
        "    target_variables = dataset_encoded.Fast.unique()  \n",
        "    variables = dataset_encoded[attribute].unique()    \n",
        "\n",
        "\n",
        "    entropy_attribute = 0\n",
        "    for variable in variables:\n",
        "        entropy_each_feature = 0\n",
        "        for target_variable in target_variables:\n",
        "            num = len(dataset_encoded[attribute][dataset_encoded[attribute]==variable][dataset_encoded.Fast ==target_variable]) \n",
        "            den = len(dataset_encoded[attribute][dataset_encoded[attribute]==variable])  #denominator\n",
        "            fraction = num/(den+eps)  \n",
        "            entropy_each_feature += -fraction*log(fraction+eps) #This calculates entropy for one feature\n",
        "        fraction2 = den/len(df)\n",
        "        entropy_attribute += -fraction2*entropy_each_feature   \n",
        "\n",
        "    return(abs(entropy_attribute))"
      ],
      "metadata": {
        "id": "uzHAp2V1l6_6"
      },
      "execution_count": null,
      "outputs": []
    },
    {
      "cell_type": "code",
      "source": [
        "a_entropy = {k:ent(dataset_encoded,k) for k in dataset_encoded.keys()[:-1]}\n",
        "a_entropy"
      ],
      "metadata": {
        "colab": {
          "base_uri": "https://localhost:8080/"
        },
        "id": "duL9XaKHmI-3",
        "outputId": "3cc244a4-ba18-4951-d4aa-1ef220917cf5"
      },
      "execution_count": null,
      "outputs": [
        {
          "output_type": "execute_result",
          "data": {
            "text/plain": [
              "{'Engine': 0.8854752972273338,\n",
              " 'Turbo': 0.9651484454403222,\n",
              " 'Weight': 0.5609640474436807}"
            ]
          },
          "metadata": {},
          "execution_count": 138
        }
      ]
    },
    {
      "cell_type": "markdown",
      "source": [
        "**Calculating Information Gain**"
      ],
      "metadata": {
        "id": "nntm2NtJxB-S"
      }
    },
    {
      "cell_type": "code",
      "source": [
        "def ig(e_dataset,e_attr):\n",
        "    return(e_dataset-e_attr)"
      ],
      "metadata": {
        "id": "qIJ1TxU6nBAW"
      },
      "execution_count": null,
      "outputs": []
    },
    {
      "cell_type": "code",
      "source": [
        "IG = {k:ig(entropy_node,a_entropy[k]) for k in a_entropy}\n",
        "IG"
      ],
      "metadata": {
        "colab": {
          "base_uri": "https://localhost:8080/"
        },
        "id": "MaWsyVjpnLzO",
        "outputId": "b59cb067-552e-4ec6-ee61-f6028b18580f"
      },
      "execution_count": null,
      "outputs": [
        {
          "output_type": "execute_result",
          "data": {
            "text/plain": [
              "{'Engine': 0.11452470277266624,\n",
              " 'Turbo': 0.03485155455967781,\n",
              " 'Weight': 0.43903595255631933}"
            ]
          },
          "metadata": {},
          "execution_count": 140
        }
      ]
    },
    {
      "cell_type": "markdown",
      "source": [
        "**Extracting Feature with Maximum Information Gain**"
      ],
      "metadata": {
        "id": "rlPT7JVlybh4"
      }
    },
    {
      "cell_type": "code",
      "source": [
        "def find_winner(df):\n",
        "    Entropy_att = []\n",
        "    IG = []\n",
        "    for key in df.keys()[:-1]:\n",
        "        IG.append(find_entropy(df)-find_entropy_attribute(df,key))\n",
        "    return df.keys()[:-1][np.argmax(IG)]"
      ],
      "metadata": {
        "id": "wR7xiFjkxTMp"
      },
      "execution_count": null,
      "outputs": []
    },
    {
      "cell_type": "code",
      "source": [
        "find_winner(dataset_encoded)"
      ],
      "metadata": {
        "colab": {
          "base_uri": "https://localhost:8080/",
          "height": 35
        },
        "id": "ltUN0y13xVHP",
        "outputId": "5ee4d87a-79e7-4a4e-af72-aa1861434873"
      },
      "execution_count": null,
      "outputs": [
        {
          "output_type": "execute_result",
          "data": {
            "application/vnd.google.colaboratory.intrinsic+json": {
              "type": "string"
            },
            "text/plain": [
              "'Weight'"
            ]
          },
          "metadata": {},
          "execution_count": 142
        }
      ]
    },
    {
      "cell_type": "code",
      "source": [
        "def get_subtable(df, node,value):\n",
        "  return df[df[node] == value].reset_index(drop=True)"
      ],
      "metadata": {
        "id": "8mEEU0ycuDcT"
      },
      "execution_count": null,
      "outputs": []
    },
    {
      "cell_type": "markdown",
      "source": [
        "**Building Decision Tree**"
      ],
      "metadata": {
        "id": "tjrQVrCeyl6H"
      }
    },
    {
      "cell_type": "code",
      "source": [
        "def buildTree(df,tree=None): \n",
        "    Class = df.keys()[-1]   \n",
        "    \n",
        "   \n",
        "\n",
        "    #Get attribute with maximum information gain\n",
        "    node = find_winner(df)\n",
        "    \n",
        "    #Get distinct value of that attribute \n",
        "    attValue = np.unique(df[node])\n",
        "    \n",
        "    #Create an empty dictionary to create tree    \n",
        "    if tree is None:                    \n",
        "        tree={}\n",
        "        tree[node] = {}\n",
        "    \n",
        "   #We make loop to construct a tree by calling this function recursively. \n",
        "    \n",
        "\n",
        "    for value in attValue:\n",
        "        \n",
        "        subtable = get_subtable(df,node,value)\n",
        "        clValue,counts = np.unique(subtable['Engine'],return_counts=True)                        \n",
        "        \n",
        "        if len(counts)==1:#Checking purity of subset\n",
        "            tree[node][value] = clValue[0]                                                    \n",
        "        else:        \n",
        "            tree[node][value] = buildTree(subtable) #Calling the function recursively \n",
        "                   \n",
        "    return tree"
      ],
      "metadata": {
        "id": "vVsfsYahxnQi"
      },
      "execution_count": null,
      "outputs": []
    },
    {
      "cell_type": "code",
      "source": [
        "t=buildTree(dataset)\n",
        "pprint.pprint(t)"
      ],
      "metadata": {
        "colab": {
          "base_uri": "https://localhost:8080/"
        },
        "id": "KA-QSwY_xvqK",
        "outputId": "93622726-1b29-426f-c2a8-48278d032255"
      },
      "execution_count": null,
      "outputs": [
        {
          "output_type": "stream",
          "name": "stdout",
          "text": [
            "{'Weight': {'average': {'Engine': {'large': 'large', 'small': 'small'}},\n",
            "            'heavy': {'Engine': {'large': 'large', 'medium': 'medium'}},\n",
            "            'light': 'medium'}}\n"
          ]
        }
      ]
    },
    {
      "cell_type": "markdown",
      "source": [
        "**Implementation of CART Algorithm**"
      ],
      "metadata": {
        "id": "pvTSkpuPyqf2"
      }
    },
    {
      "cell_type": "code",
      "source": [
        "#Feature Set\n",
        "X=dataset_encoded.iloc[:,0:3].values\n",
        "#Label Set\n",
        "y=dataset_encoded.iloc[:,-1].values\n",
        "\n",
        "X_train,X_test,y_train,y_test=train_test_split(X,y,test_size=1,random_state=2)\n",
        "\n",
        "model=DecisionTreeClassifier(criterion='gini')\n",
        "model.fit(X_train,y_train)\n"
      ],
      "metadata": {
        "colab": {
          "base_uri": "https://localhost:8080/"
        },
        "id": "NMo0blLiev9E",
        "outputId": "e3ef24bd-97e2-4eee-e482-ee71019062cf"
      },
      "execution_count": null,
      "outputs": [
        {
          "output_type": "execute_result",
          "data": {
            "text/plain": [
              "DecisionTreeClassifier()"
            ]
          },
          "metadata": {},
          "execution_count": 146
        }
      ]
    },
    {
      "cell_type": "markdown",
      "source": [
        "**Score for CART Algorithm**"
      ],
      "metadata": {
        "id": "OwG1Nx-KywtX"
      }
    },
    {
      "cell_type": "code",
      "source": [
        "model.score(X_train,y_train)"
      ],
      "metadata": {
        "colab": {
          "base_uri": "https://localhost:8080/"
        },
        "id": "udVg0gixh2tn",
        "outputId": "72ae7c0c-3353-4896-c573-81e791d7be72"
      },
      "execution_count": null,
      "outputs": [
        {
          "output_type": "execute_result",
          "data": {
            "text/plain": [
              "0.8888888888888888"
            ]
          },
          "metadata": {},
          "execution_count": 147
        }
      ]
    },
    {
      "cell_type": "markdown",
      "source": [
        "**Prediction**"
      ],
      "metadata": {
        "id": "Wre2yh3uy07P"
      }
    },
    {
      "cell_type": "code",
      "source": [
        "if model.predict([[2,1,0]])==1:\n",
        "    print(\"Speed of car is fast\")\n",
        "else:\n",
        "    print(\"Speed of car is not fast\")"
      ],
      "metadata": {
        "colab": {
          "base_uri": "https://localhost:8080/"
        },
        "id": "PJD7qnGfjguE",
        "outputId": "5670c1f5-4f4f-4476-8077-fa44db78e01d"
      },
      "execution_count": null,
      "outputs": [
        {
          "output_type": "stream",
          "name": "stdout",
          "text": [
            "Speed of car is fast\n"
          ]
        }
      ]
    },
    {
      "cell_type": "code",
      "source": [
        "if model.predict([[1,0,2]])==1:\n",
        "    print(\"Speed of car is fast\")\n",
        "else:\n",
        "    print(\"Speed of car is not fast\")"
      ],
      "metadata": {
        "colab": {
          "base_uri": "https://localhost:8080/"
        },
        "id": "F2RA-djXhl4g",
        "outputId": "982b8840-51ae-48d1-98a1-b44399a63242"
      },
      "execution_count": null,
      "outputs": [
        {
          "output_type": "stream",
          "name": "stdout",
          "text": [
            "Speed of car is not fast\n"
          ]
        }
      ]
    },
    {
      "cell_type": "code",
      "source": [
        ""
      ],
      "metadata": {
        "id": "bwSMFKQ6y4J2"
      },
      "execution_count": null,
      "outputs": []
    }
  ]
}